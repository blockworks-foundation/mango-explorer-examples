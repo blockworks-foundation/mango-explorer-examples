{
 "cells": [
  {
   "cell_type": "markdown",
   "id": "1c81447d",
   "metadata": {},
   "source": [
    "[🥭 Mango Markets](https://mango.markets/) support is available at: [Docs](https://docs.mango.markets/) | [Discord](https://discord.gg/67jySBhxrg) | [Twitter](https://twitter.com/mangomarkets) | [Github](https://github.com/blockworks-foundation) | [Email](mailto:hello@blockworks.foundation)\n",
    "\n",
    "[![Binder](https://mybinder.org/badge_logo.svg)](https://mybinder.org/v2/gh/blockworks-foundation/mango-explorer-examples/HEAD?labpath=SimpleMarketmaker.ipynb) [Run this code](https://mybinder.org/v2/gh/blockworks-foundation/mango-explorer-examples/HEAD?labpath=SimpleMarketmaker.ipynb) on Binder.\n",
    "\n",
    "_🏃‍♀️ To run this notebook press the ⏩ icon in the toolbar above._"
   ]
  },
  {
   "cell_type": "markdown",
   "id": "055fbf67",
   "metadata": {},
   "source": [
    "# 🥭 Simple Marketmaker\n",
    "\n",
    "This notebook shows how to run a simple marketmaker on a market.\n",
    "\n",
    "Marketmakers typically place a pair of BUY and a SELL orders, hoping (on average) to profit by capturing the spread between those prices. `mango-explorer` has a [short introduction to marketmaking](https://github.com/blockworks-foundation/mango-explorer/blob/main/docs/MarketmakingIntroduction.md) that starts with a very basic marketmaker (a `bash` script!) and increases the complexity to a more complete marketmaker bot.\n",
    "\n",
    "That bot has a lot of [configuration options](https://github.com/blockworks-foundation/mango-explorer/blob/main/docs/MarketmakingOrderChain.md) and a useful [Quickstart](https://github.com/blockworks-foundation/mango-explorer/blob/main/docs/MarketmakingQuickstart.md) to get you up and running marketmaking on devnet.\n",
    "\n",
    "This code is simpler, intending to demonstrate the principlea of:\n",
    "* placing paired orders at a specified distance from an oracle price,\n",
    "* pausing (hoping the orders will be filled), then\n",
    "* replacing those orders.\n",
    "\n",
    "More sophisticated error handling, risk management, pricing, and inventory handling are available in `mango-explorer`.\n",
    "\n",
    "_(Note: it's probably not a good idea to run this code for extended periods of time. Binder can time out, and the output log at the bottom of the page can grow to an extent that causes problems with the browser. If you want to run something this simple for an extended period of time, it may be better to check out the `simple-marketmaker` command in `mango-explorer` which follows the same principles as this code but is better suited to continuous operation.)_"
   ]
  },
  {
   "cell_type": "code",
   "execution_count": null,
   "id": "88779eaa",
   "metadata": {},
   "outputs": [],
   "source": [
    "import decimal\n",
    "import mango\n",
    "import time\n",
    "\n",
    "# Use our hard-coded devnet wallet for DeekipCw5jz7UgQbtUbHQckTYGKXWaPQV4xY93DaiM6h.\n",
    "# For real-world use you'd load the bytes from the environment or a file.\n",
    "wallet = mango.Wallet(bytes([67,218,68,118,140,171,228,222,8,29,48,61,255,114,49,226,239,89,151,110,29,136,149,118,97,189,163,8,23,88,246,35,187,241,107,226,47,155,40,162,3,222,98,203,176,230,34,49,45,8,253,77,136,241,34,4,80,227,234,174,103,11,124,146]))\n",
    "\n",
    "# Create a 'devnet' Context\n",
    "with mango.ContextBuilder.build(cluster_name=\"devnet\") as context:\n",
    "    # Load the wallet's account\n",
    "    group = mango.Group.load(context)\n",
    "    accounts = mango.Account.load_all_for_owner(context, wallet.address, group)\n",
    "    account = accounts[0]\n",
    "\n",
    "    # Load the market\n",
    "    market = mango.market(context, \"SOL-PERP\")\n",
    "    market_operations = mango.operations(context, wallet, account, \"SOL-PERP\", dry_run=False)\n",
    "\n",
    "    oracle_provider = mango.create_oracle_provider(context, \"pyth\")\n",
    "    sol_oracle = oracle_provider.oracle_for_market(context, market)\n",
    "\n",
    "    # OK, that's the setup done. Now we're ready to loop.\n",
    "    # Every 30 seconds (`pause_seconds`) the code will:\n",
    "    # * Cancel all orders\n",
    "    # * Place a BUY order for 1 SOL-PERP (`quantity`) at currentprice - 1% (`price_factor`)\n",
    "    # * Place a SELL order for 1 SOL-PERP (`quantity`) at currentprice + 1% (`price_factor`)\n",
    "    pause_seconds = 30\n",
    "    quantity = decimal.Decimal(1)\n",
    "    price_factor = decimal.Decimal(\"0.01\")  # 1%, so orders will be at + and - 1% of oracle mid price.\n",
    "    stop_requested = False\n",
    "    while not stop_requested:\n",
    "        try:\n",
    "            # Update current price\n",
    "            price = sol_oracle.fetch_price(context)\n",
    "            print(f\"Price is: ${price.mid_price:,.2f}\")\n",
    "\n",
    "            print(\"Cancelling orders.\")\n",
    "            for order in market_operations.load_my_orders():\n",
    "                print(f\"- Cancelling: {order}\")\n",
    "                market_operations.cancel_order(order, ok_if_missing=True)\n",
    "\n",
    "            # Calculate what we want the orders to be.\n",
    "            price_adjustment = price.mid_price * price_factor\n",
    "            bid = price.mid_price - price_adjustment\n",
    "            ask = price.mid_price + price_adjustment\n",
    "\n",
    "            print(\"Placing orders.\")\n",
    "            buy_order = mango.Order.from_values(mango.Side.BUY, bid, quantity, mango.OrderType.POST_ONLY)\n",
    "            placed_buy = market_operations.place_order(buy_order)\n",
    "            print(f\"+ {placed_buy}\")\n",
    "\n",
    "            sell_order = mango.Order.from_values(mango.Side.SELL, ask, quantity, mango.OrderType.POST_ONLY)\n",
    "            placed_sell = market_operations.place_order(sell_order)\n",
    "            print(f\"+ {placed_sell}\")\n",
    "\n",
    "            # Wait and hope for fills.\n",
    "            print(f\"Pausing for {pause_seconds} seconds.\\n\")\n",
    "            time.sleep(pause_seconds)\n",
    "        except KeyboardInterrupt:\n",
    "            stop_requested = True\n",
    "        except Exception as exception:\n",
    "            print(f\"Continuing after problem running market-making iteration: {exception}\")\n",
    "\n",
    "    print(\"\\n\\nCancelling all orders and stopping...\")\n",
    "    for order in market_operations.load_my_orders():\n",
    "        market_operations.cancel_order(order, ok_if_missing=True)\n",
    "\n",
    "print(\"Example complete.\")"
   ]
  }
 ],
 "metadata": {
  "interpreter": {
   "hash": "ac2eaa0ea0ebeafcc7822e65e46aa9d4f966f30b695406963e145ea4a91cd4fc"
  },
  "kernelspec": {
   "display_name": "Python 3",
   "language": "python",
   "name": "python3"
  },
  "language_info": {
   "codemirror_mode": {
    "name": "ipython",
    "version": 3
   },
   "file_extension": ".py",
   "mimetype": "text/x-python",
   "name": "python",
   "nbconvert_exporter": "python",
   "pygments_lexer": "ipython3",
   "version": "3.9.10"
  },
  "metadata": {
   "interpreter": {
    "hash": "ac2eaa0ea0ebeafcc7822e65e46aa9d4f966f30b695406963e145ea4a91cd4fc"
   }
  },
  "toc": {
   "base_numbering": 1,
   "nav_menu": {},
   "number_sections": true,
   "sideBar": true,
   "skip_h1_title": false,
   "title_cell": "Table of Contents",
   "title_sidebar": "Contents",
   "toc_cell": false,
   "toc_position": {},
   "toc_section_display": true,
   "toc_window_display": true
  },
  "varInspector": {
   "cols": {
    "lenName": 16,
    "lenType": 16,
    "lenVar": 40
   },
   "kernels_config": {
    "python": {
     "delete_cmd_postfix": "",
     "delete_cmd_prefix": "del ",
     "library": "var_list.py",
     "varRefreshCmd": "print(var_dic_list())"
    },
    "r": {
     "delete_cmd_postfix": ") ",
     "delete_cmd_prefix": "rm(",
     "library": "var_list.r",
     "varRefreshCmd": "cat(var_dic_list()) "
    }
   },
   "types_to_exclude": [
    "module",
    "function",
    "builtin_function_or_method",
    "instance",
    "_Feature"
   ],
   "window_display": false
  }
 },
 "nbformat": 4,
 "nbformat_minor": 5
}
