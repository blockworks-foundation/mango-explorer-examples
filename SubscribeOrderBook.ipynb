{
 "cells": [
  {
   "cell_type": "markdown",
   "id": "1c81447d",
   "metadata": {},
   "source": [
    "[🥭 Mango Markets](https://mango.markets/) support is available at: [Docs](https://docs.mango.markets/) | [Discord](https://discord.gg/67jySBhxrg) | [Twitter](https://twitter.com/mangomarkets) | [Github](https://github.com/blockworks-foundation) | [Email](mailto:hello@blockworks.foundation)\n",
    "\n",
    "[![Binder](https://mybinder.org/badge_logo.svg)](https://mybinder.org/v2/gh/blockworks-foundation/mango-explorer-examples/HEAD?labpath=SusbscribeOrderBook.ipynb) [Run this code](https://mybinder.org/v2/gh/blockworks-foundation/mango-explorer-examples/HEAD?labpath=SusbscribeOrderBook.ipynb) on Binder.\n",
    "\n",
    "_🏃‍♀️ To run this notebook press the ⏩ icon in the toolbar above._"
   ]
  },
  {
   "cell_type": "markdown",
   "id": "055fbf67",
   "metadata": {},
   "source": [
    "# 🥭 Subscribe to the OrderBook\n",
    "\n",
    "This notebook shows how to stream the `OrderBook` for a perp market via a websocket, showing new orders as they appear.\n",
    "\n",
    "In the code below, the second parameter to `market.on_orderbook_change()` is a lambda that is called when a new `OrderBook` is available. (All the demonstration code below does is print the current `OrderBook` out with a timestamp. It's here you probably want to insert your own functionality.)\n",
    "\n",
    "Behind the scenes what the code does:\n",
    "* Fetch the current `OrderBook` to start with.\n",
    "* Build websocket subscriptions to both the bids and asks accounts.\n",
    "* Combine those changes into a single subscription that returns the updated `OrderBook`\n",
    "* Watches that subscription for changes, and prints out the `OrderBook` when it is updated\n",
    "\n",
    "Streaming changes to an `OrderBook` is complicated by the fact that an `OrderBook` is based on two Solana accounts, not one. Bids and asks are held in separate accounts, and we want to update the `OrderBook` when either of them is changed.\n",
    "\n",
    "This code will exit after 60 seconds."
   ]
  },
  {
   "cell_type": "code",
   "execution_count": null,
   "id": "88779eaa",
   "metadata": {},
   "outputs": [],
   "source": [
    "import datetime\n",
    "import mango\n",
    "import time\n",
    "\n",
    "with mango.ContextBuilder.build(cluster_name=\"devnet\") as context:\n",
    "    market = mango.market(context, \"BTC-PERP\")\n",
    "    subscription = market.on_orderbook_change(context, lambda ob: print(\"\\n\", datetime.datetime.now(), \"\\n\", ob))\n",
    "\n",
    "    time.sleep(60)\n",
    "\n",
    "    subscription.dispose()\n",
    "\n",
    "print(\"Example complete.\")"
   ]
  }
 ],
 "metadata": {
  "interpreter": {
   "hash": "ac2eaa0ea0ebeafcc7822e65e46aa9d4f966f30b695406963e145ea4a91cd4fc"
  },
  "kernelspec": {
   "display_name": "Python 3 (ipykernel)",
   "language": "python",
   "name": "python3"
  },
  "language_info": {
   "codemirror_mode": {
    "name": "ipython",
    "version": 3
   },
   "file_extension": ".py",
   "mimetype": "text/x-python",
   "name": "python",
   "nbconvert_exporter": "python",
   "pygments_lexer": "ipython3",
   "version": "3.9.10"
  },
  "metadata": {
   "interpreter": {
    "hash": "ac2eaa0ea0ebeafcc7822e65e46aa9d4f966f30b695406963e145ea4a91cd4fc"
   }
  },
  "toc": {
   "base_numbering": 1,
   "nav_menu": {},
   "number_sections": true,
   "sideBar": true,
   "skip_h1_title": false,
   "title_cell": "Table of Contents",
   "title_sidebar": "Contents",
   "toc_cell": false,
   "toc_position": {},
   "toc_section_display": true,
   "toc_window_display": true
  },
  "varInspector": {
   "cols": {
    "lenName": 16,
    "lenType": 16,
    "lenVar": 40
   },
   "kernels_config": {
    "python": {
     "delete_cmd_postfix": "",
     "delete_cmd_prefix": "del ",
     "library": "var_list.py",
     "varRefreshCmd": "print(var_dic_list())"
    },
    "r": {
     "delete_cmd_postfix": ") ",
     "delete_cmd_prefix": "rm(",
     "library": "var_list.r",
     "varRefreshCmd": "cat(var_dic_list()) "
    }
   },
   "types_to_exclude": [
    "module",
    "function",
    "builtin_function_or_method",
    "instance",
    "_Feature"
   ],
   "window_display": false
  }
 },
 "nbformat": 4,
 "nbformat_minor": 5
}
