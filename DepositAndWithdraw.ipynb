{
 "cells": [
  {
   "cell_type": "markdown",
   "id": "1c81447d",
   "metadata": {},
   "source": [
    "[🥭 Mango Markets](https://mango.markets/) support is available at: [Docs](https://docs.mango.markets/) | [Discord](https://discord.gg/67jySBhxrg) | [Twitter](https://twitter.com/mangomarkets) | [Github](https://github.com/blockworks-foundation) | [Email](mailto:hello@blockworks.foundation)\n",
    "\n",
    "[![Binder](https://mybinder.org/badge_logo.svg)](https://mybinder.org/v2/gh/blockworks-foundation/mango-explorer-examples/HEAD?labpath=DepositAndWithdraw.ipynb) [Run this code](https://mybinder.org/v2/gh/blockworks-foundation/mango-explorer-examples/HEAD?labpath=DepositAndWithdraw.ipynb) on Binder.\n",
    "\n",
    "_🏃‍♀️ To run this notebook press the ⏩ icon in the toolbar above._"
   ]
  },
  {
   "cell_type": "markdown",
   "id": "055fbf67",
   "metadata": {},
   "source": [
    "# 🥭 Deposit and Withdraw\n",
    "\n",
    "This notebook shows how to deposit a quantity of a specific token into a Mango Account, and then withdraw it.\n",
    "\n",
    "This involves using Mango's root and node banks. Root banks keep track of tokens deposited across all Mango accounts, and node banks hold the actual tokens themselves. Much of this is handled for you by the `Account` object but it's possible to perform all the steps manually if you need to alter parts of the process."
   ]
  },
  {
   "cell_type": "code",
   "execution_count": null,
   "id": "88779eaa",
   "metadata": {},
   "outputs": [],
   "source": [
    "import decimal\n",
    "import mango\n",
    "\n",
    "\n",
    "# Use this function to display balances because it always fetches fresh data\n",
    "def show_balances(context, wallet, group, sol_token):\n",
    "    # Find the current SPL token balance\n",
    "    token_account = mango.TokenAccount.fetch_largest_for_owner_and_token(context, wallet.address, sol_token)\n",
    "    print(\"Wrapped SOL in wallet:\", token_account.value)\n",
    "\n",
    "    # Find the SOL-specific details in the account\n",
    "    accounts = mango.Account.load_all_for_owner(context, wallet.address, group)\n",
    "    for slot in accounts[0].slots:\n",
    "        if slot.base_instrument == sol_token:\n",
    "            print(\"Wrapped SOL in account\", slot.net_value)\n",
    "            print()\n",
    "            return\n",
    "\n",
    "\n",
    "# Use our hard-coded devnet wallet for DeekipCw5jz7UgQbtUbHQckTYGKXWaPQV4xY93DaiM6h.\n",
    "# For real-world use you'd load the bytes from the environment or a file.\n",
    "wallet = mango.Wallet(bytes([67,218,68,118,140,171,228,222,8,29,48,61,255,114,49,226,239,89,151,110,29,136,149,118,97,189,163,8,23,88,246,35,187,241,107,226,47,155,40,162,3,222,98,203,176,230,34,49,45,8,253,77,136,241,34,4,80,227,234,174,103,11,124,146]))\n",
    "\n",
    "# Signers are effectively an empty CombinableInstruction that only carries the keys for\n",
    "# signing transactions\n",
    "signers: mango.CombinableInstructions = mango.CombinableInstructions.from_wallet(wallet)\n",
    "\n",
    "# Create a 'devnet' Context\n",
    "with mango.ContextBuilder.build(cluster_name=\"devnet\") as context:\n",
    "    # Mango accounts are per-Group, so we need to load the Group first.\n",
    "    group = mango.Group.load(context)\n",
    "\n",
    "    # Find the wrapped SOL token\n",
    "    sol_token = context.instrument_lookup.find_by_symbol_or_raise(\"SOL\")\n",
    "\n",
    "    print(\"Before:\")\n",
    "    show_balances(context, wallet, group, sol_token)\n",
    "\n",
    "    accounts = mango.Account.load_all_for_owner(context, wallet.address, group)\n",
    "    account = accounts[0]\n",
    "\n",
    "    print(\"Depositing 0.5 SOL:\")\n",
    "\n",
    "    deposit_value = mango.InstrumentValue(sol_token, decimal.Decimal(\"0.5\"))\n",
    "    deposit_signatures = account.deposit(context, wallet, deposit_value)\n",
    "    print(\"Deposit transaction signatures:\", deposit_signatures)\n",
    "\n",
    "    print(\"Waiting for deposit transaction to confirm...\\n\")\n",
    "    mango.WebSocketTransactionMonitor.wait_for_all(\n",
    "            context.client.cluster_ws_url, deposit_signatures, commitment=\"processed\"\n",
    "        )\n",
    "\n",
    "    print(\"After deposit:\")\n",
    "    show_balances(context, wallet, group, sol_token)\n",
    "\n",
    "    print(\"Withdrawing 0.5 SOL:\")\n",
    "\n",
    "    withdrawal_value = mango.InstrumentValue(sol_token, decimal.Decimal(\"0.5\"))\n",
    "    withdrawal_signatures = account.withdraw(context, wallet, withdrawal_value, False)\n",
    "    print(\"Withdrawal transaction signatures:\", withdrawal_signatures)\n",
    "\n",
    "    print(\"Waiting for withdraw transaction to confirm...\\n\")\n",
    "    mango.WebSocketTransactionMonitor.wait_for_all(\n",
    "            context.client.cluster_ws_url, withdrawal_signatures, commitment=\"processed\"\n",
    "        )\n",
    "\n",
    "    print(\"After withdrawal:\")\n",
    "    show_balances(context, wallet, group, sol_token)\n",
    "\n",
    "print(\"Example complete.\")"
   ]
  }
 ],
 "metadata": {
  "interpreter": {
   "hash": "ac2eaa0ea0ebeafcc7822e65e46aa9d4f966f30b695406963e145ea4a91cd4fc"
  },
  "kernelspec": {
   "display_name": "Python 3 (ipykernel)",
   "language": "python",
   "name": "python3"
  },
  "language_info": {
   "codemirror_mode": {
    "name": "ipython",
    "version": 3
   },
   "file_extension": ".py",
   "mimetype": "text/x-python",
   "name": "python",
   "nbconvert_exporter": "python",
   "pygments_lexer": "ipython3",
   "version": "3.9.10"
  },
  "metadata": {
   "interpreter": {
    "hash": "ac2eaa0ea0ebeafcc7822e65e46aa9d4f966f30b695406963e145ea4a91cd4fc"
   }
  },
  "toc": {
   "base_numbering": 1,
   "nav_menu": {},
   "number_sections": true,
   "sideBar": true,
   "skip_h1_title": false,
   "title_cell": "Table of Contents",
   "title_sidebar": "Contents",
   "toc_cell": false,
   "toc_position": {},
   "toc_section_display": true,
   "toc_window_display": true
  },
  "varInspector": {
   "cols": {
    "lenName": 16,
    "lenType": 16,
    "lenVar": 40
   },
   "kernels_config": {
    "python": {
     "delete_cmd_postfix": "",
     "delete_cmd_prefix": "del ",
     "library": "var_list.py",
     "varRefreshCmd": "print(var_dic_list())"
    },
    "r": {
     "delete_cmd_postfix": ") ",
     "delete_cmd_prefix": "rm(",
     "library": "var_list.r",
     "varRefreshCmd": "cat(var_dic_list()) "
    }
   },
   "types_to_exclude": [
    "module",
    "function",
    "builtin_function_or_method",
    "instance",
    "_Feature"
   ],
   "window_display": false
  }
 },
 "nbformat": 4,
 "nbformat_minor": 5
}
