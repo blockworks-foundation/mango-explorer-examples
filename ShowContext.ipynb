{
 "cells": [
  {
   "cell_type": "markdown",
   "id": "1c81447d",
   "metadata": {},
   "source": [
    "[🥭 Mango Markets](https://mango.markets/) support is available at: [Docs](https://docs.mango.markets/) | [Discord](https://discord.gg/67jySBhxrg) | [Twitter](https://twitter.com/mangomarkets) | [Github](https://github.com/blockworks-foundation) | [Email](mailto:hello@blockworks.foundation)\n",
    "\n",
    "[![Binder](https://mybinder.org/badge_logo.svg)](https://mybinder.org/v2/gh/blockworks-foundation/mango-explorer-examples/HEAD?labpath=ShowContext.ipynb) [Run this code](https://mybinder.org/v2/gh/blockworks-foundation/mango-explorer-examples/HEAD?labpath=ShowContext.ipynb) on Binder.\n",
    "\n",
    "_🏃‍♀️ To run this notebook press the ⏩ icon in the toolbar above._"
   ]
  },
  {
   "cell_type": "markdown",
   "id": "055fbf67",
   "metadata": {},
   "source": [
    "# 🥭 Show Context\n",
    "\n",
    "This notebook shows how to create a `mango-explorer` `Context`.\n",
    "\n",
    "The `Context` is heavily used to provide access to Solana, Mango Groups and Accounts. [This example](ShowContext.ipynb) shows you how to create a `Context` object. `Context` objects are `Disposable` and so should should have the `dispose()` method called on the object when it is no longer used. This can be done manually but the easiest way is usually to use it in a `with` statement like:\n",
    "```\n",
    "with mango.ContextBuilder.build(cluster_name=\"devnet\") as context:\n",
    "    ...\n",
    "    your context-using code\n",
    "    ...\n",
    "```\n",
    "\n",
    "The code below creates and prints:\n",
    "* A default mainnet `Context`\n",
    "* A devnet `Context`\n",
    "* A mainnet `Context` with a custom RPC node URL\n",
    "* A devnet `Context` with a custom RPC node URL\n"
   ]
  },
  {
   "cell_type": "code",
   "execution_count": null,
   "id": "88779eaa",
   "metadata": {},
   "outputs": [],
   "source": [
    "import mango\n",
    "\n",
    "# Create a default mainnet Context\n",
    "with mango.ContextBuilder.default() as default_context:\n",
    "    print(\"default_context\", default_context)\n",
    "\n",
    "# Create a devnet Context\n",
    "with mango.ContextBuilder.build(cluster_name=\"devnet\") as devnet_context:\n",
    "    print(\"devnet_context\", devnet_context)\n",
    "\n",
    "# Create a mainnet Context with a custom RPC node URL\n",
    "# Here we use https://solana-api.projectserum.com as the custom RPC node URL - in\n",
    "# real-world use you would use the URL given to you by your RPC node provider.\n",
    "with mango.ContextBuilder.build(cluster_urls=[mango.ClusterUrlData(\"https://solana-api.projectserum.com\")]) as custom_context:\n",
    "    print(\"custom_context\", custom_context)\n",
    "\n",
    "\n",
    "# Create a devnet Context with a custom RPC node URL\n",
    "# This is just a combination of the two previous examples.\n",
    "with mango.ContextBuilder.build(cluster_name=\"devnet\", cluster_urls=[mango.ClusterUrlData(\"https://api.devnet.solana.com\")]) as custom_devnet_context:\n",
    "    print(\"custom_devnet_context\", custom_devnet_context)\n",
    "\n",
    "\n",
    "# Create a devnet Context with a multiple RPC node URLs\n",
    "with mango.ContextBuilder.build(cluster_name=\"devnet\", cluster_urls=[mango.ClusterUrlData(\"https://api.devnet.solana.com\"), mango.ClusterUrlData(\"https://mango.devnet.rpcpool.com\")]) as multiple_rpc_devnet_context:\n",
    "    print(\"multiple_rpc_devnet_context\", multiple_rpc_devnet_context)\n",
    "\n",
    "print(\"Example complete.\")"
   ]
  }
 ],
 "metadata": {
  "interpreter": {
   "hash": "ac2eaa0ea0ebeafcc7822e65e46aa9d4f966f30b695406963e145ea4a91cd4fc"
  },
  "kernelspec": {
   "display_name": "Python 3",
   "language": "python",
   "name": "python3"
  },
  "language_info": {
   "codemirror_mode": {
    "name": "ipython",
    "version": 3
   },
   "file_extension": ".py",
   "mimetype": "text/x-python",
   "name": "python",
   "nbconvert_exporter": "python",
   "pygments_lexer": "ipython3",
   "version": "3.9.10"
  },
  "metadata": {
   "interpreter": {
    "hash": "ac2eaa0ea0ebeafcc7822e65e46aa9d4f966f30b695406963e145ea4a91cd4fc"
   }
  },
  "toc": {
   "base_numbering": 1,
   "nav_menu": {},
   "number_sections": true,
   "sideBar": true,
   "skip_h1_title": false,
   "title_cell": "Table of Contents",
   "title_sidebar": "Contents",
   "toc_cell": false,
   "toc_position": {},
   "toc_section_display": true,
   "toc_window_display": true
  },
  "varInspector": {
   "cols": {
    "lenName": 16,
    "lenType": 16,
    "lenVar": 40
   },
   "kernels_config": {
    "python": {
     "delete_cmd_postfix": "",
     "delete_cmd_prefix": "del ",
     "library": "var_list.py",
     "varRefreshCmd": "print(var_dic_list())"
    },
    "r": {
     "delete_cmd_postfix": ") ",
     "delete_cmd_prefix": "rm(",
     "library": "var_list.r",
     "varRefreshCmd": "cat(var_dic_list()) "
    }
   },
   "types_to_exclude": [
    "module",
    "function",
    "builtin_function_or_method",
    "instance",
    "_Feature"
   ],
   "window_display": false
  }
 },
 "nbformat": 4,
 "nbformat_minor": 5
}
