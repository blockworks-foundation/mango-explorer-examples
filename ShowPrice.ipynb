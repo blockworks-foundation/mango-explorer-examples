{
 "cells": [
  {
   "cell_type": "markdown",
   "id": "1c81447d",
   "metadata": {},
   "source": [
    "[🥭 Mango Markets](https://mango.markets/) support is available at: [Docs](https://docs.mango.markets/) | [Discord](https://discord.gg/67jySBhxrg) | [Twitter](https://twitter.com/mangomarkets) | [Github](https://github.com/blockworks-foundation) | [Email](mailto:hello@blockworks.foundation)\n",
    "\n",
    "[![Binder](https://mybinder.org/badge_logo.svg)](https://mybinder.org/v2/gh/blockworks-foundation/mango-explorer-examples/HEAD?labpath=ShowPrice.ipynb) [Run this code](https://mybinder.org/v2/gh/blockworks-foundation/mango-explorer-examples/HEAD?labpath=ShowPrice.ipynb) on Binder.\n",
    "\n",
    "_🏃‍♀️ To run this notebook press the ⏩ icon in the toolbar above._"
   ]
  },
  {
   "cell_type": "markdown",
   "id": "055fbf67",
   "metadata": {},
   "source": [
    "# 🥭 Show Price\n",
    "\n",
    "This notebook shows how to fetch the current price from an oracle.\n",
    "\n",
    "`mango-explorer` supports the following oracle providers:\n",
    "* FTX\n",
    "* Market\n",
    "* Pyth\n",
    "* Stub\n",
    "\n",
    "`create_oracle_provider()` returns the proper oracle provider based on what you ask for.\n",
    "\n",
    "The `OracleProvider` returns the `Oracle` for the market you ask for.\n",
    "\n",
    "You can then use that `Oracle` to fetch the current `Price`.\n",
    "\n",
    "If you want to fetch an updated price, you can call `fetch_price()` on the same `Oracle` to get refreshed price information. There's no need to create a new `OracleProvider` for this - each call to `fetch_price()` should trigger a fresh fetch of the data."
   ]
  },
  {
   "cell_type": "code",
   "execution_count": null,
   "id": "88779eaa",
   "metadata": {},
   "outputs": [],
   "source": [
    "import mango\n",
    "\n",
    "# Create a 'devnet' Context\n",
    "with mango.ContextBuilder.build(cluster_name=\"devnet\") as context:\n",
    "    # Load the market\n",
    "    market = mango.market(context, \"BTC/USDC\")\n",
    "\n",
    "    pyth = mango.create_oracle_provider(context, \"pyth\")\n",
    "    pyth_btc = pyth.oracle_for_market(context, market)\n",
    "    # Note that Pyth provides a +/- confidence interval\n",
    "    print(\"BTC price on Pyth is:\\n\\t\", pyth_btc.fetch_price(context))\n",
    "\n",
    "    ftx = mango.create_oracle_provider(context, \"ftx\")\n",
    "    ftx_btc = ftx.oracle_for_market(context, market)\n",
    "    print(\"BTC price on FTX is:\\n\\t\", ftx_btc.fetch_price(context))\n",
    "\n",
    "    # The 'market' oracle accesses the market's bids and asks, and our\n",
    "    # market-type for \"BTC/USDC\" is spot.\n",
    "    spot = mango.create_oracle_provider(context, \"market\")\n",
    "    spot_btc = spot.oracle_for_market(context, market)\n",
    "    print(\"BTC price on Serum is:\\n\\t\", spot_btc.fetch_price(context))\n",
    "\n",
    "print(\"Example complete.\")"
   ]
  }
 ],
 "metadata": {
  "interpreter": {
   "hash": "ac2eaa0ea0ebeafcc7822e65e46aa9d4f966f30b695406963e145ea4a91cd4fc"
  },
  "kernelspec": {
   "display_name": "Python 3",
   "language": "python",
   "name": "python3"
  },
  "language_info": {
   "codemirror_mode": {
    "name": "ipython",
    "version": 3
   },
   "file_extension": ".py",
   "mimetype": "text/x-python",
   "name": "python",
   "nbconvert_exporter": "python",
   "pygments_lexer": "ipython3",
   "version": "3.9.10"
  },
  "metadata": {
   "interpreter": {
    "hash": "ac2eaa0ea0ebeafcc7822e65e46aa9d4f966f30b695406963e145ea4a91cd4fc"
   }
  },
  "toc": {
   "base_numbering": 1,
   "nav_menu": {},
   "number_sections": true,
   "sideBar": true,
   "skip_h1_title": false,
   "title_cell": "Table of Contents",
   "title_sidebar": "Contents",
   "toc_cell": false,
   "toc_position": {},
   "toc_section_display": true,
   "toc_window_display": true
  },
  "varInspector": {
   "cols": {
    "lenName": 16,
    "lenType": 16,
    "lenVar": 40
   },
   "kernels_config": {
    "python": {
     "delete_cmd_postfix": "",
     "delete_cmd_prefix": "del ",
     "library": "var_list.py",
     "varRefreshCmd": "print(var_dic_list())"
    },
    "r": {
     "delete_cmd_postfix": ") ",
     "delete_cmd_prefix": "rm(",
     "library": "var_list.r",
     "varRefreshCmd": "cat(var_dic_list()) "
    }
   },
   "types_to_exclude": [
    "module",
    "function",
    "builtin_function_or_method",
    "instance",
    "_Feature"
   ],
   "window_display": false
  }
 },
 "nbformat": 4,
 "nbformat_minor": 5
}
