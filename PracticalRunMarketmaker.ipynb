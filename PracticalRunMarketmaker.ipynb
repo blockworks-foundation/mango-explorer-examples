{
 "cells": [
  {
   "cell_type": "markdown",
   "id": "1c81447d",
   "metadata": {},
   "source": [
    "[🥭 Mango Markets](https://mango.markets/) support is available at: [Docs](https://docs.mango.markets/) | [Discord](https://discord.gg/67jySBhxrg) | [Twitter](https://twitter.com/mangomarkets) | [Github](https://github.com/blockworks-foundation) | [Email](mailto:hello@blockworks.foundation)\n",
    "\n",
    "[![Binder](https://mybinder.org/badge_logo.svg)](https://mybinder.org/v2/gh/blockworks-foundation/mango-explorer-examples/HEAD?labpath=PracticalRunMarketmaker.ipynb) [Run this code](https://mybinder.org/v2/gh/blockworks-foundation/mango-explorer-examples/HEAD?labpath=PracticalRunMarketmaker.ipynb) on Binder.\n",
    "\n",
    "_🏃‍♀️ To run this notebook press the ⏩ icon in the toolbar above._"
   ]
  },
  {
   "cell_type": "markdown",
   "id": "055fbf67",
   "metadata": {},
   "source": [
    "# 🥭 Practical: Run Marketmaker\n",
    "\n",
    "This notebook shows how to load a custom `OrderChain` install it in `MarketMaker`, and then run that `MarketMaker` on a market.\n",
    "\n",
    "This Practical is a bigger task than the normal examples here, so it is split into the following sections:\n",
    "1. Imports and Setup\n",
    "2. Build the `Context`\n",
    "3. Build the `OrderChain`, including instantiating all the `Elements`\n",
    "4. Build the `OrderReconciler`\n",
    "5. Build the `Oracle`\n",
    "6. Build the `ModelState` - this function will be called every 'pulse' to fetch the latest data\n",
    "7. Build the `MarketMaker`\n",
    "8. Run the `MarketMaker`"
   ]
  },
  {
   "cell_type": "markdown",
   "id": "88779eaa",
   "metadata": {},
   "source": [
    "## 1. Imports and Setup\n",
    "\n",
    "This is just some basic housekeeping. (These are the only imports used in this example.)\n",
    "\n",
    "The line:\n",
    "```\n",
    "    logging.getLogger().setLevel(logging.DEBUG)\n",
    "```\n",
    "sets up logging and allows messages of DEBUG or higher to be shown on the page when running code. This can log a lot of information to the page, slowing things down, so `logging.INFO` is a useful compromise. If running the code on this page for longer than a few minutes, you might be better limiting it to `logging.ERROR` so that only errors or critical problems are shown."
   ]
  },
  {
   "cell_type": "code",
   "execution_count": null,
   "id": "eligible-procedure",
   "metadata": {},
   "outputs": [],
   "source": [
    "import logging\n",
    "import mango\n",
    "import mango.marketmaking\n",
    "import time\n",
    "\n",
    "from datetime import timedelta\n",
    "from decimal import Decimal\n",
    "\n",
    "from mango.marketmaking.orderchain.chain import Chain\n",
    "from mango.marketmaking.orderchain.biasquoteonpositionelement import BiasQuoteOnPositionElement\n",
    "from mango.marketmaking.orderchain.ratioselement import RatiosElement\n",
    "from mango.marketmaking.orderchain.roundtolotsizeelement import RoundToLotSizeElement\n",
    "\n",
    "# Set logging so messages show up.\n",
    "logging.getLogger().setLevel(logging.INFO)"
   ]
  },
  {
   "cell_type": "markdown",
   "id": "greatest-arrest",
   "metadata": {},
   "source": [
    "## 2. Build the `Context`\n",
    "\n",
    "The `Context` object provides access to the Solana RPC nodes, as well as knowing the current Mango `Group` and hosting some static data like token mint addresses and symbols.\n",
    "\n",
    "Typically only one `Context` is used per program, and it doesn't usually need to be re-created or refreshed. Multiple `Context`s can be created too, if required, and they shouldn't interfere with each other.\n",
    "\n",
    "Here we create a 'devnet' `Context` using all the default options. A 'mainnet' `Context` using all the default options could be created using:\n",
    "```\n",
    "    return mango.ContextBuilder.build()\n",
    "```\n",
    "instead.\n",
    "\n",
    "More typically, some options for communicating with the Solana RPC node may be preferred:\n",
    "```\n",
    "    return mango.ContextBuilder.build(cluster_name=\"devnet\", cluster_url=\"https://api.devnet.solana.com\", commitment=\"confirmed\", skip_preflight=True)\n",
    "```\n",
    "\n",
    "### References\n",
    "\n",
    "* [Show Context example](ShowContext.ipynb)"
   ]
  },
  {
   "cell_type": "code",
   "execution_count": null,
   "id": "fatty-bronze",
   "metadata": {},
   "outputs": [],
   "source": [
    "def build_context():\n",
    "    return mango.ContextBuilder.build(cluster_name=\"devnet\")"
   ]
  },
  {
   "cell_type": "markdown",
   "id": "scheduled-stable",
   "metadata": {},
   "source": [
    "## 3. Build the `OrderChain`, including instantiating the `Elements` you want to use\n",
    "\n",
    "This merits a bit of explanation. There's a more detailed explanation of what an `OrderChain` is, what `Elements` are available (and what configuration options they provide), in the [documentation](https://github.com/blockworks-foundation/mango-explorer/blob/main/docs/MarketmakingOrderChain.md).\n",
    "\n",
    "An `OrderChain` is what builds the `Order`s you want the marketmaker to place - the 'desired' `Order`s. Typically the first `Element` builds a list of `Order`s, and subsequent (optional) `Element`s add, remove or change those orders. After all `Element`s have had the chance to operate on the `Order`s, the list of these 'desired' `Order`s is ready for the next stage.\n",
    "\n",
    "For example, the first `Element` could be a `RatiosElement` that builds a BUY and SELL order at a spread of 0.5% and a position size of 5% of inventory. Then the next `Element` could be a `BiasQuoteOnPositionElement` to adjust the price of those `Order`s based on the current 'position':\n",
    "- if the position is net-short, it would adjust the price down to tend to buy more, or\n",
    "- if the position is net-long, it would adjust the price up to tend to sell more\n",
    "\n",
    "The final element could then round the price and quantity values to the proper 'lot sizes' for the market. Having this as the last stage means it only needs to be done once, and it makes it easier to compare `Order`s when it comes to 'reconciliation' (see the next step).\n",
    "\n",
    "Keeping the functionality in separate `Element`s makes the system more configurable and much easier to test.\n",
    "\n",
    "This code builds that example `OrderChain`, with a `RatiosElement`, a `BiasQuoteOnPositionElement`, and a `RoundToLotSizeElement`.\n",
    "\n",
    "### References\n",
    "\n",
    "* [OrderChain documentation](https://github.com/blockworks-foundation/mango-explorer/blob/main/docs/MarketmakingOrderChain.md)"
   ]
  },
  {
   "cell_type": "code",
   "execution_count": null,
   "id": "earned-nudist",
   "metadata": {},
   "outputs": [],
   "source": [
    "def build_order_chain():\n",
    "    order_type = mango.OrderType.POST_ONLY\n",
    "    spread = Decimal(\"0.005\")  # 0.5%\n",
    "    position_size = Decimal(\"0.05\")  # 5%\n",
    "    bias = [Decimal(\"0.0001\")]\n",
    "\n",
    "    ratios_element = RatiosElement(order_type, None, 20, [spread], [position_size], False)\n",
    "    bias_element = BiasQuoteOnPositionElement(bias)\n",
    "    round_to_lot_size_element = RoundToLotSizeElement()\n",
    "\n",
    "    chain = Chain([ratios_element, bias_element, round_to_lot_size_element])\n",
    "\n",
    "    return chain"
   ]
  },
  {
   "cell_type": "markdown",
   "id": "structural-swimming",
   "metadata": {},
   "source": [
    "## 4. Build the `OrderReconciler`\n",
    "\n",
    "After the chain has build the list of 'desired' `Order`s, the marketmaker checks the orderbook to see what `Order`s it currently has open.\n",
    "\n",
    "The list of desired `Order`s and the list of open `Order`s are compared, to return:\n",
    "* A list of existing `Order`s to cancel\n",
    "* A list of existing `Order`s to keep\n",
    "* A list of fresh `Order`s to place\n",
    "\n",
    "This 'reconciliation' of `Order`s is performed by an `OrderReconciler`, and depending on how strict it is `Order`s may be replaced on nearly every 'pulse' or may be left on the orderbook for many 'pulses'.\n",
    "\n",
    "We'll use a `ToleranceOrderReconciler`, and we'll set it so that orders are kept on the orderbook (not cancelled, not replaced) if their prices and quantities are within 0.1% of a 'desired' `Order` from the `OrderChain`."
   ]
  },
  {
   "cell_type": "code",
   "execution_count": null,
   "id": "coastal-diving",
   "metadata": {},
   "outputs": [],
   "source": [
    "def build_order_reconciler():\n",
    "    return mango.marketmaking.ToleranceOrderReconciler(Decimal(\"0.001\"), Decimal(\"0.001\"), timedelta(seconds=5))\n"
   ]
  },
  {
   "cell_type": "markdown",
   "id": "rising-margin",
   "metadata": {},
   "source": [
    "## 5. Build the `Oracle`\n",
    "\n",
    "The `Oracle` is the source of price information for our marketmaker. There are a number of possible oracle sources we could use:\n",
    "* Pyth\n",
    "* FTX\n",
    "* Serum\n",
    "\n",
    "For this example, we'll use Pyth.\n",
    "\n",
    "We construct the `Oracle` from the `OracleProvider`, and return it. The `Oracle` provides a `fetch_price()` method which will always fetch the latest price, so the `Oracle` itself can be safely reused or cached.\n",
    "\n",
    "### References\n",
    "\n",
    "* [Oracle documentation](https://github.com/blockworks-foundation/mango-explorer/blob/main/docs/MarketmakingOracle.md)"
   ]
  },
  {
   "cell_type": "code",
   "execution_count": null,
   "id": "proud-testament",
   "metadata": {},
   "outputs": [],
   "source": [
    "def build_oracle(context, market):\n",
    "    oracle_source_name = \"pyth\"\n",
    "    oracle_provider = mango.create_oracle_provider(context, oracle_source_name)\n",
    "    oracle = oracle_provider.oracle_for_market(context, market)\n",
    "    if oracle is None:\n",
    "        raise Exception(f\"Could not find oracle for market {market.symbol} from provider {oracle_source_name}.\")\n",
    "    return oracle\n"
   ]
  },
  {
   "cell_type": "markdown",
   "id": "pediatric-sender",
   "metadata": {},
   "source": [
    "## 6. Build the `ModelState`\n",
    "\n",
    "Unlike the first two functions - `build_context()` and `build_order_chain()` - this function will be called __frequently__. It will be called every 'pulse' to fetch the latest data, so it's important that it's efficient in fetching the data.\n",
    "\n",
    "The `ModelState` can be used two ways:\n",
    "1. It can be created fresh for each 'pulse', or\n",
    "2. It can take advantage of `Watcher`s, which can automatically update themselves (for example via websocket updates)\n",
    "\n",
    "This code will assume the first approach and will create a fresh `ModelState` each time `build_model_state()` is called. This means many of our objects need to be wrapped in a `ManualUpdateWatcher` class when being passed to the `ModelState` constructor, but all that does here is provide a wrapper with a `latest` property that points to the object we just provided."
   ]
  },
  {
   "cell_type": "code",
   "execution_count": null,
   "id": "complete-alpha",
   "metadata": {},
   "outputs": [],
   "source": [
    "def build_model_state(context, order_owner, market, oracle, group_address, cache_address, account_address, all_open_orders_addresses):\n",
    "    # Build a list of addresses and use `load_multiple()` to fetch them all in one go.\n",
    "    addresses = [\n",
    "        group_address,\n",
    "        cache_address,\n",
    "        account_address,\n",
    "        market.bids_address,\n",
    "        market.asks_address,\n",
    "        market.event_queue_address,\n",
    "        *all_open_orders_addresses,\n",
    "    ]\n",
    "    account_infos = mango.AccountInfo.load_multiple(context, addresses)\n",
    "    group = mango.Group.parse_with_context(context, account_infos[0])\n",
    "    cache = mango.Cache.parse(account_infos[1])\n",
    "    account = mango.Account.parse(account_infos[2], group, cache)\n",
    "\n",
    "    group_slot = group.slot_by_perp_market_address(market.address)\n",
    "    perp_account = account.perp_accounts[group_slot.index]\n",
    "    if perp_account is None:\n",
    "        raise Exception(f\"Could not find perp account at index {group_slot.index} of account {account.address}.\")\n",
    "    placed_orders_container = perp_account.open_orders\n",
    "\n",
    "    base_lots = perp_account.base_position\n",
    "    base_value = market.lot_size_converter.base_size_lots_to_number(base_lots)\n",
    "    base_token_value = mango.InstrumentValue(market.base, base_value)\n",
    "    quote_token_value = account.shared_quote.net_value\n",
    "\n",
    "    event_queue = mango.PerpEventQueue.parse(account_infos[5], market.lot_size_converter)\n",
    "\n",
    "    spot_open_orders_account_infos_by_address = {\n",
    "        str(account_info.address): account_info\n",
    "        for account_info in account_infos[6:]\n",
    "    }\n",
    "\n",
    "    all_open_orders = {}\n",
    "    for basket_token in account.slots:\n",
    "        if (\n",
    "            basket_token.spot_open_orders is not None\n",
    "            and str(basket_token.spot_open_orders)\n",
    "            in spot_open_orders_account_infos_by_address\n",
    "        ):\n",
    "            account_info: mango.AccountInfo = (\n",
    "                spot_open_orders_account_infos_by_address[\n",
    "                    str(basket_token.spot_open_orders)\n",
    "                ]\n",
    "            )\n",
    "            open_orders: mango.OpenOrders = mango.OpenOrders.parse(\n",
    "                account_info,\n",
    "                basket_token.base_instrument.decimals,\n",
    "                account.shared_quote_token.decimals,\n",
    "            )\n",
    "            all_open_orders[str(basket_token.spot_open_orders)] = open_orders\n",
    "\n",
    "    frame = account.to_dataframe(group, all_open_orders, cache)\n",
    "    available_collateral = account.init_health(frame)\n",
    "    inventory = mango.Inventory(mango.InventorySource.ACCOUNT,\n",
    "                                perp_account.mngo_accrued,\n",
    "                                available_collateral,\n",
    "                                base_token_value,\n",
    "                                quote_token_value)\n",
    "\n",
    "    orderbook = market.parse_account_infos_to_orderbook(account_infos[3], account_infos[4])\n",
    "\n",
    "    price = oracle.fetch_price(context)\n",
    "\n",
    "    return mango.ModelState(order_owner,\n",
    "                            market,\n",
    "                            mango.ManualUpdateWatcher(group),\n",
    "                            mango.ManualUpdateWatcher(account),\n",
    "                            mango.ManualUpdateWatcher(price),\n",
    "                            mango.ManualUpdateWatcher(placed_orders_container),\n",
    "                            mango.ManualUpdateWatcher(inventory),\n",
    "                            mango.ManualUpdateWatcher(orderbook),\n",
    "                            mango.ManualUpdateWatcher(event_queue))"
   ]
  },
  {
   "cell_type": "markdown",
   "id": "negative-implementation",
   "metadata": {},
   "source": [
    "## 7. Build the `MarketMaker`\n",
    "\n",
    "Compared to all that build-up above, constructing the `MarketMaker` is now relatively straightforward!"
   ]
  },
  {
   "cell_type": "code",
   "execution_count": null,
   "id": "chronic-default",
   "metadata": {},
   "outputs": [],
   "source": [
    "def build_marketmaker(context, wallet, account, market):\n",
    "    chain = build_order_chain()\n",
    "    order_reconciler = build_order_reconciler()\n",
    "    instruction_builder = mango.instruction_builder(context, wallet, account, market.symbol, False)\n",
    "    market_maker = mango.marketmaking.MarketMaker(wallet, market, instruction_builder, chain, order_reconciler, Decimal(0))\n",
    "    return market_maker\n"
   ]
  },
  {
   "cell_type": "markdown",
   "id": "heard-testimony",
   "metadata": {},
   "source": [
    "## 8. Run the `MarketMaker`\n",
    "\n",
    "That's a lot of setup code above, but it also shows you which bits you can change and introduce your own 'smarts'.\n",
    "\n",
    "Now we just need to call those functions and start the marketmaker! We do this in a simple loop, with a `sleep()` call after it. You can stop the loop by pressing the Stop (⏹️) button in the toolbar.\n",
    "\n",
    "### Caveat\n",
    "\n",
    "Please bear in mind that the code below uses a shared Solana `Keypair` and a shared Mango `Account`. If you're going to run this example more than once or twice, it might be better for you to set up a fresh devnet `Keypair` and `Account` for you to use - it's easy and free, and it means other people running this example won't accidentally cancel your orders or cause confusion."
   ]
  },
  {
   "cell_type": "code",
   "execution_count": null,
   "id": "adaptive-emergency",
   "metadata": {},
   "outputs": [],
   "source": [
    "# Use our hard-coded devnet wallet for DeekipCw5jz7UgQbtUbHQckTYGKXWaPQV4xY93DaiM6h.\n",
    "# For real-world use you'd load the bytes from the environment or a file.\n",
    "wallet = mango.Wallet(bytes(bytearray([67,218,68,118,140,171,228,222,8,29,48,61,255,114,49,226,239,89,151,110,29,136,149,118,97,189,163,8,23,88,246,35,187,241,107,226,47,155,40,162,3,222,98,203,176,230,34,49,45,8,253,77,136,241,34,4,80,227,234,174,103,11,124,146])))\n",
    "\n",
    "# Specify the market we're going to use\n",
    "market_symbol = \"SOL-PERP\"\n",
    "\n",
    "# Configure how long to pause between pulses\n",
    "pause_seconds = 30\n",
    "\n",
    "# Create a 'devnet' Context\n",
    "context = build_context()\n",
    "\n",
    "# Load the wallet's account\n",
    "group = mango.Group.load(context)\n",
    "accounts = mango.Account.load_all_for_owner(context, wallet.address, group)\n",
    "account = accounts[0]\n",
    "\n",
    "# Load the market\n",
    "market = mango.market(context, market_symbol)\n",
    "\n",
    "oracle = build_oracle(context, market)\n",
    "marketmaker = build_marketmaker(context, wallet, account, market)\n",
    "\n",
    "stop_requested = False\n",
    "while not stop_requested:\n",
    "    try:\n",
    "        model_state = build_model_state(context, account.address, market, oracle, group.address, group.cache, account.address, account.spot_open_orders)\n",
    "        marketmaker.pulse(context, model_state)\n",
    "\n",
    "        # Wait and hope for fills.\n",
    "        print(f\"Pausing for {pause_seconds} seconds.\\n\")\n",
    "        time.sleep(pause_seconds)\n",
    "    except KeyboardInterrupt:\n",
    "        stop_requested = True\n",
    "    except Exception as exception:\n",
    "        print(f\"Continuing after problem running market-making iteration: {exception}\")\n",
    "\n",
    "market_operations = mango.operations(context, wallet, account, market, dry_run=False)\n",
    "for order in market_operations.load_my_orders():\n",
    "    market_operations.cancel_order(order, ok_if_missing=True)\n",
    "\n",
    "context.dispose()\n",
    "print(\"Example complete\")\n"
   ]
  }
 ],
 "metadata": {
  "interpreter": {
   "hash": "ac2eaa0ea0ebeafcc7822e65e46aa9d4f966f30b695406963e145ea4a91cd4fc"
  },
  "kernelspec": {
   "display_name": "Python 3 (ipykernel)",
   "language": "python",
   "name": "python3"
  },
  "language_info": {
   "codemirror_mode": {
    "name": "ipython",
    "version": 3
   },
   "file_extension": ".py",
   "mimetype": "text/x-python",
   "name": "python",
   "nbconvert_exporter": "python",
   "pygments_lexer": "ipython3",
   "version": "3.9.10"
  },
  "metadata": {
   "interpreter": {
    "hash": "ac2eaa0ea0ebeafcc7822e65e46aa9d4f966f30b695406963e145ea4a91cd4fc"
   }
  },
  "toc": {
   "base_numbering": 1,
   "nav_menu": {},
   "number_sections": true,
   "sideBar": true,
   "skip_h1_title": false,
   "title_cell": "Table of Contents",
   "title_sidebar": "Contents",
   "toc_cell": false,
   "toc_position": {},
   "toc_section_display": true,
   "toc_window_display": true
  },
  "varInspector": {
   "cols": {
    "lenName": 16,
    "lenType": 16,
    "lenVar": 40
   },
   "kernels_config": {
    "python": {
     "delete_cmd_postfix": "",
     "delete_cmd_prefix": "del ",
     "library": "var_list.py",
     "varRefreshCmd": "print(var_dic_list())"
    },
    "r": {
     "delete_cmd_postfix": ") ",
     "delete_cmd_prefix": "rm(",
     "library": "var_list.r",
     "varRefreshCmd": "cat(var_dic_list()) "
    }
   },
   "types_to_exclude": [
    "module",
    "function",
    "builtin_function_or_method",
    "instance",
    "_Feature"
   ],
   "window_display": false
  }
 },
 "nbformat": 4,
 "nbformat_minor": 5
}
