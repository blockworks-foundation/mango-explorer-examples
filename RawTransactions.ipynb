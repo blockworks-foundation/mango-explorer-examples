{
 "cells": [
  {
   "cell_type": "markdown",
   "id": "1c81447d",
   "metadata": {},
   "source": [
    "[🥭 Mango Markets](https://mango.markets/) support is available at: [Docs](https://docs.mango.markets/) | [Discord](https://discord.gg/67jySBhxrg) | [Twitter](https://twitter.com/mangomarkets) | [Github](https://github.com/blockworks-foundation) | [Email](mailto:hello@blockworks.foundation)\n",
    "\n",
    "[![Binder](https://mybinder.org/badge_logo.svg)](https://mybinder.org/v2/gh/blockworks-foundation/mango-explorer-examples/HEAD?labpath=RawTransactions.ipynb) [Run this code](https://mybinder.org/v2/gh/blockworks-foundation/mango-explorer-examples/HEAD?labpath=RawTransactions.ipynb) on Binder.\n",
    "\n",
    "_🏃‍♀️ To run this notebook press the ⏩ icon in the toolbar above._"
   ]
  },
  {
   "cell_type": "markdown",
   "id": "055fbf67",
   "metadata": {},
   "source": [
    "# 🥭 Raw Transactions\n",
    "\n",
    "`mango-explorer` uses `CombinableInstructions`  throughout. This might be a problem if you're trying to integrate with other systems that use Solana's own `Transaction`s and `Instruction`s.\n",
    "\n",
    "This example is nearly identical to the [CombinableInstructions](CombinalbleInstructions.ipynb) example, except that the execution of the place/crank/settle instructions uses raw `Transaction` and `TransactionInstruction` objects instead of `CombinableInstructions`' `execute()` method."
   ]
  },
  {
   "cell_type": "markdown",
   "id": "joint-intranet",
   "metadata": {},
   "source": [
    "## Identical Prologue\n",
    "\n",
    "This section of code is identical to the [CombinableInstructions](CombinalbleInstructions.ipynb) example."
   ]
  },
  {
   "cell_type": "code",
   "execution_count": null,
   "id": "88779eaa",
   "metadata": {},
   "outputs": [],
   "source": [
    "import decimal\n",
    "import mango\n",
    "\n",
    "# Use our hard-coded devnet wallet for DeekipCw5jz7UgQbtUbHQckTYGKXWaPQV4xY93DaiM6h.\n",
    "# For real-world use you'd load the bytes from the environment or a file.\n",
    "wallet = mango.Wallet(bytes(bytearray([67,218,68,118,140,171,228,222,8,29,48,61,255,114,49,226,239,89,151,110,29,136,149,118,97,189,163,8,23,88,246,35,187,241,107,226,47,155,40,162,3,222,98,203,176,230,34,49,45,8,253,77,136,241,34,4,80,227,234,174,103,11,124,146])))\n",
    "\n",
    "# Signers are effectively an empty CombinableInstruction that only carries the keys for\n",
    "# signing transactions\n",
    "signers: mango.CombinableInstructions = mango.CombinableInstructions.from_wallet(wallet)\n",
    "\n",
    "# Create a 'devnet' Context\n",
    "context = mango.ContextBuilder.build(cluster_name=\"devnet\")\n",
    "# Load the wallet's account\n",
    "group = mango.Group.load(context)\n",
    "accounts = mango.Account.load_all_for_owner(context, wallet.address, group)\n",
    "account = accounts[0]\n",
    "\n",
    "# Create the right MarketOperations from the Market. We use this as an easy way to display orders.\n",
    "market_operations = mango.operations(context, wallet, account, \"SOL-PERP\", dry_run=False)\n",
    "\n",
    "print(\"Orders (initial):\")\n",
    "print(market_operations.load_orderbook())\n",
    "\n",
    "# Create the right MarketInstructionBuilder from the Market\n",
    "market_instructions = mango.instruction_builder(context, wallet, account, \"SOL-PERP\", dry_run=False)\n",
    "\n",
    "# Go on - try to buy 1 SOL for $10.\n",
    "client_id = context.generate_client_id()\n",
    "order = mango.Order.from_values(side=mango.Side.BUY,\n",
    "                                price=decimal.Decimal(10),\n",
    "                                quantity=decimal.Decimal(1),\n",
    "                                order_type=mango.OrderType.POST_ONLY).with_update(client_id=client_id)\n"
   ]
  },
  {
   "cell_type": "markdown",
   "id": "entertaining-hawaiian",
   "metadata": {},
   "source": [
    "## Raw Transaction And TransactionInstructions\n",
    "\n",
    "This is the section of code that is different to the [CombinableInstructions](CombinalbleInstructions.ipynb) example.\n",
    "\n",
    "Note that `market_instructions` is still used to build `CombinableInstructions` - it's the native way `mango-explorer` works - but they're then 'unwrapped'.\n",
    "\n",
    "`CombinableInstructions` maintains a list of `TransactionInstruction`s in its `instructions` property. You can just add them to a `Transaction`s instructions by calling `extend()` on the transaction's `instructions`, for example:\n",
    "```\n",
    "tx.instructions.extend(combinable_instruction.instructions)\n",
    "```\n",
    "Signing the transaction can be done by extracting the signers from the `CombinableInstructions`' `signers` property:\n",
    "```\n",
    "signers = []\n",
    "signers.extend(combinable_instruction.signers)\n",
    "...\n",
    "context.client.send_transaction(tx, *signers)\n",
    "```\n",
    "In the common case, where there's only the wallet signer, you can just do:\n",
    "```\n",
    "context.client.send_transaction(tx, wallet.keypair)\n",
    "```"
   ]
  },
  {
   "cell_type": "code",
   "execution_count": null,
   "id": "contained-clearance",
   "metadata": {},
   "outputs": [],
   "source": [
    "print(\"\\n\\nPlacing order:\\n\", order)\n",
    "\n",
    "# Build the individual CombinableInstructions. You could add others here - the marketmaker adds in\n",
    "# order cancellations and optional MNGO redeem instructions.\n",
    "place_order = market_instructions.build_place_order_instructions(order)\n",
    "crank = market_instructions.build_crank_instructions([])\n",
    "settle = market_instructions.build_settle_instructions()\n",
    "\n",
    "# Instead of combining them like this:\n",
    "# (signers + place_order + crank + settle).execute(context)\n",
    "# We now need to build the Transaction and add the Instructions and signers manually.\n",
    "\n",
    "# Import here so the above code block really is identical to the CombinableInstructions example.\n",
    "from solana.transaction import Transaction\n",
    "\n",
    "transaction = Transaction()\n",
    "transaction.instructions.extend(place_order.instructions)\n",
    "transaction.instructions.extend(crank.instructions)\n",
    "transaction.instructions.extend(settle.instructions)\n",
    "\n",
    "print(\"Sending transaction:\", transaction)\n",
    "transaction_signature = context.client.send_transaction(transaction, wallet.keypair)\n",
    "place_signatures = [transaction_signature]\n"
   ]
  },
  {
   "cell_type": "markdown",
   "id": "advisory-hanging",
   "metadata": {},
   "source": [
    "## Identical Epilogue\n",
    "\n",
    "This section is also identical to the [CombinableInstructions](CombinalbleInstructions.ipynb) example."
   ]
  },
  {
   "cell_type": "code",
   "execution_count": null,
   "id": "square-clearing",
   "metadata": {},
   "outputs": [],
   "source": [
    "\n",
    "print(\"Waiting for place order transaction to confirm...\\n\")\n",
    "mango.WebSocketTransactionMonitor.wait_for_all(\n",
    "        context.client.cluster_ws_url, place_signatures, commitment=\"processed\"\n",
    "    )\n",
    "\n",
    "print(\"\\n\\nOrders (including our new order):\")\n",
    "print(market_operations.load_orderbook())\n",
    "\n",
    "cancel_signatures = market_operations.cancel_order(order)\n",
    "print(\"\\n\\ncancel_signatures:\\n\\t\", cancel_signatures)\n",
    "\n",
    "print(\"Waiting for cancel order transaction to confirm...\\n\")\n",
    "mango.WebSocketTransactionMonitor.wait_for_all(\n",
    "        context.client.cluster_ws_url, cancel_signatures, commitment=\"processed\"\n",
    "    )\n",
    "\n",
    "print(\"\\n\\nOrders (without our order):\")\n",
    "print(market_operations.load_orderbook())\n",
    "\n",
    "context.dispose()\n",
    "print(\"Example complete.\")"
   ]
  }
 ],
 "metadata": {
  "interpreter": {
   "hash": "ac2eaa0ea0ebeafcc7822e65e46aa9d4f966f30b695406963e145ea4a91cd4fc"
  },
  "kernelspec": {
   "display_name": "Python 3",
   "language": "python",
   "name": "python3"
  },
  "language_info": {
   "codemirror_mode": {
    "name": "ipython",
    "version": 3
   },
   "file_extension": ".py",
   "mimetype": "text/x-python",
   "name": "python",
   "nbconvert_exporter": "python",
   "pygments_lexer": "ipython3",
   "version": "3.9.10"
  },
  "metadata": {
   "interpreter": {
    "hash": "ac2eaa0ea0ebeafcc7822e65e46aa9d4f966f30b695406963e145ea4a91cd4fc"
   }
  },
  "toc": {
   "base_numbering": 1,
   "nav_menu": {},
   "number_sections": true,
   "sideBar": true,
   "skip_h1_title": false,
   "title_cell": "Table of Contents",
   "title_sidebar": "Contents",
   "toc_cell": false,
   "toc_position": {},
   "toc_section_display": true,
   "toc_window_display": true
  },
  "varInspector": {
   "cols": {
    "lenName": 16,
    "lenType": 16,
    "lenVar": 40
   },
   "kernels_config": {
    "python": {
     "delete_cmd_postfix": "",
     "delete_cmd_prefix": "del ",
     "library": "var_list.py",
     "varRefreshCmd": "print(var_dic_list())"
    },
    "r": {
     "delete_cmd_postfix": ") ",
     "delete_cmd_prefix": "rm(",
     "library": "var_list.r",
     "varRefreshCmd": "cat(var_dic_list()) "
    }
   },
   "types_to_exclude": [
    "module",
    "function",
    "builtin_function_or_method",
    "instance",
    "_Feature"
   ],
   "window_display": false
  }
 },
 "nbformat": 4,
 "nbformat_minor": 5
}
